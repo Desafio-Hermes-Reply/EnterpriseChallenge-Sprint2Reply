{
 "cells": [
  {
   "cell_type": "markdown",
   "id": "38abe372-acb5-4e8d-a692-f1df3e415970",
   "metadata": {
    "panel-layout": {
     "height": 60.59375,
     "visible": true,
     "width": 100
    }
   },
   "source": [
    "# Sumario"
   ]
  },
  {
   "cell_type": "markdown",
   "id": "6b995ec2-8014-45cd-93cb-95e2825437b4",
   "metadata": {
    "panel-layout": {
     "height": 513.9375,
     "visible": true,
     "width": 100
    },
    "scrolled": true
   },
   "source": [
    "- [1. Introdução](#1)\n",
    "  - [1.1. Instalação de Pacotes Python](#11)\n",
    "  - [1.2. Importação das Bibliotecas](#12)\n",
    "- [2. Carregamento dos Dados](#2)\n",
    "  - [2.1. Carregando Arquivo](#21)\n",
    "  - [2.2. Tamanho do DataFrame](#22)\n",
    "  - [2.2. Dados Faltantes ou Nulos](#22)\n",
    "  - [2.4. Análise do tipo de dado](#24)\n",
    "  - [2.5. Verificando o Alvo](#25)\n",
    "- [3. Análise Exploratória dos Dados](#3)\n",
    "  - [3.1. Tabelas de Estatística descritiva](#31)\n",
    "    - [3.1.1. Analise das Tabelas descritica do Fósforo](#311)\n",
    "    - [3.1.2. Analise das Tabelas descritica do Nitrogênio](#312)\n",
    "    - [3.1.3. Analise das Tabelas descritica do Potássio](#313)\n",
    "    - [3.1.4. Analise das Tabelas descritica do Humidade](#314)\n",
    "    - [3.1.5. Analise das Tabelas descritica do Tremperatura](#315)\n",
    "    - [3.1.6. Analise das Tabelas descritica do ph](#316)\n",
    "    - [3.1.7. Analise das Tabelas descritica do Precipitação](#317)\n",
    "  - [3.2. Visualizacao Gráfica](#32)\n",
    "    - [3.2.1. Histograma do Nitrogênio](#321)\n",
    "    - [3.2.2. Boxplot do Nitrogênio](#322)\n",
    "    - [3.2.3. Histograma Potássio](#323)\n",
    "    - [3.2.4. Boxplot do Potássio](#324)\n",
    "    - [3.2.5. Histograma do Fósforo](#325)\n",
    "    - [3.2.6. Boxplot do Fósforo](#326)\n",
    "    - [3.2.7. Matriz de Correlação Linear](#327)\n",
    "    - [3.2.8. Gráfico Linear](#328)\n",
    "    - [3.2.9. Boxplot de Precipitação de Chuva](#329)"
   ]
  },
  {
   "cell_type": "markdown",
   "id": "68e3ac55-b5ad-44c5-a0c8-5acd8214b71a",
   "metadata": {
    "panel-layout": {
     "height": 60.59375,
     "visible": true,
     "width": 100
    }
   },
   "source": [
    "# 1. introdução"
   ]
  },
  {
   "cell_type": "markdown",
   "id": "cda3e1a1-1938-47df-b104-a5a4edefcb4b",
   "metadata": {
    "panel-layout": {
     "height": 160.84375,
     "visible": true,
     "width": 100
    }
   },
   "source": [
    "Os sensores desempenham um papel fundamental na Indústria 4.0, pois são responsáveis por transformar fenômenos físicos em dados digitais, permitindo que máquinas, sistemas e processos se tornem inteligentes e autônomos. Eles viabilizam a coleta contínua e precisa de informações sobre variáveis como temperatura, pressão, vibração, umidade, entre outras, essenciais para o monitoramento e controle em tempo real das operações industriais.\n",
    "\n",
    "Essa capacidade de sensoriamento possibilita a implementação de soluções avançadas, como manutenção preditiva, otimização de processos, redução de falhas e aumento da eficiência produtiva. Além disso, os sensores são a base para a integração entre o mundo físico e digital, permitindo a criação de sistemas ciberfísicos, essenciais para a tomada de decisões automatizadas e a flexibilização da produção.\n",
    "\n",
    "Em resumo, os sensores são os elementos-chave que impulsionam a transformação digital nas indústrias, tornando possível a evolução para fábricas inteligentes, mais produtivas, seguras e sustentáveis.\n",
    "\n"
   ]
  },
  {
   "cell_type": "markdown",
   "id": "7a2d4dc7-61b2-431f-bc59-162fb51fa6a7",
   "metadata": {
    "panel-layout": {
     "height": 50.796875,
     "visible": true,
     "width": 100
    }
   },
   "source": [
    "## 1.1. instalação dos pacostes python"
   ]
  },
  {
   "cell_type": "code",
   "execution_count": 20,
   "id": "4bf501d9-556d-45d4-975d-f0e0c6c272fe",
   "metadata": {},
   "outputs": [],
   "source": [
    "#!pip install pandas\n",
    "#!pip install seaborn\n",
    "#!pip install matplotlib\n",
    "#!pip install scipy\n",
    "#!pip install scikit-learn"
   ]
  },
  {
   "cell_type": "markdown",
   "id": "cba5126b-6468-41d8-8cbe-5ca0466147f5",
   "metadata": {
    "panel-layout": {
     "height": 50.796875,
     "visible": true,
     "width": 100
    }
   },
   "source": [
    "## 1.2. importação das bibliotecas"
   ]
  },
  {
   "cell_type": "code",
   "execution_count": 8,
   "id": "3f4adf92-504d-4bee-9d6c-52289c81b760",
   "metadata": {},
   "outputs": [],
   "source": [
    "# Manipulação de dados\n",
    "import pandas as pd\n",
    "import numpy as np\n",
    "\n",
    "# Estatísticas e operações matemáticas\n",
    "from statistics import mode, StatisticsError\n",
    "from scipy import stats\n",
    "\n",
    "# Visualização de dados\n",
    "import seaborn as sns\n",
    "import matplotlib.pyplot as plt\n",
    "\n",
    "# Ambientes interativos\n",
    "from IPython.display import display\n",
    "\n",
    "# Controle de avisos\n",
    "import warnings\n",
    "warnings.filterwarnings(\"ignore\")\n",
    "\n",
    "# Machine Learning - Pré-processamento e treino/teste\n",
    "from sklearn.model_selection import train_test_split\n",
    "from sklearn.preprocessing import StandardScaler\n",
    "\n",
    "# Modelos de classificação\n",
    "from sklearn.tree import DecisionTreeClassifier\n",
    "from sklearn.ensemble import RandomForestClassifier\n",
    "from sklearn.neighbors import KNeighborsClassifier\n",
    "from sklearn.linear_model import LogisticRegression\n",
    "from sklearn.svm import SVC\n",
    "\n",
    "# Avaliação de modelos\n",
    "from sklearn.metrics import (\n",
    "    accuracy_score, classification_report,\n",
    "    confusion_matrix, ConfusionMatrixDisplay,\n",
    "    precision_score, recall_score, f1_score\n",
    ")"
   ]
  },
  {
   "cell_type": "markdown",
   "id": "24227b5c-66bf-4bd3-9300-7f661bfb884f",
   "metadata": {
    "panel-layout": {
     "height": 60.59375,
     "visible": true,
     "width": 100
    }
   },
   "source": [
    "# 2. carregando dados"
   ]
  },
  {
   "cell_type": "markdown",
   "id": "a4b71cdd-40ef-4da1-9bd7-6d938ee322f5",
   "metadata": {
    "panel-layout": {
     "height": 68.28125,
     "visible": true,
     "width": 100
    }
   },
   "source": [
    "Este código acessa uma API que fornece dados de sensores, converte os dados em um DataFrame do pandas para facilitar a análise, exibe um resumo estatístico dos dados e salva o resultado em um arquivo CSV para uso posterior."
   ]
  },
  {
   "cell_type": "code",
   "execution_count": 11,
   "id": "cda6d393-ca3f-46fb-b8bd-af99a03931e6",
   "metadata": {},
   "outputs": [
    {
     "name": "stdout",
     "output_type": "stream",
     "text": [
      "Prévia dos dados:\n"
     ]
    },
    {
     "data": {
      "text/html": [
       "<div>\n",
       "<style scoped>\n",
       "    .dataframe tbody tr th:only-of-type {\n",
       "        vertical-align: middle;\n",
       "    }\n",
       "\n",
       "    .dataframe tbody tr th {\n",
       "        vertical-align: top;\n",
       "    }\n",
       "\n",
       "    .dataframe thead th {\n",
       "        text-align: right;\n",
       "    }\n",
       "</style>\n",
       "<table border=\"1\" class=\"dataframe\">\n",
       "  <thead>\n",
       "    <tr style=\"text-align: right;\">\n",
       "      <th></th>\n",
       "      <th>id</th>\n",
       "      <th>temperatura</th>\n",
       "      <th>vibracao</th>\n",
       "      <th>corrente</th>\n",
       "      <th>velocidade</th>\n",
       "      <th>posicao</th>\n",
       "      <th>pressao</th>\n",
       "      <th>nivel</th>\n",
       "      <th>qualidade_ar</th>\n",
       "      <th>umidade</th>\n",
       "      <th>tensao</th>\n",
       "      <th>fumaca</th>\n",
       "    </tr>\n",
       "  </thead>\n",
       "  <tbody>\n",
       "    <tr>\n",
       "      <th>count</th>\n",
       "      <td>83.000000</td>\n",
       "      <td>83.000000</td>\n",
       "      <td>83.000000</td>\n",
       "      <td>83.000000</td>\n",
       "      <td>83.000000</td>\n",
       "      <td>83.000000</td>\n",
       "      <td>83.000000</td>\n",
       "      <td>83.000000</td>\n",
       "      <td>83.000000</td>\n",
       "      <td>83.000000</td>\n",
       "      <td>83.000000</td>\n",
       "      <td>83.000000</td>\n",
       "    </tr>\n",
       "    <tr>\n",
       "      <th>mean</th>\n",
       "      <td>42.000000</td>\n",
       "      <td>37.174699</td>\n",
       "      <td>2.582169</td>\n",
       "      <td>5.293976</td>\n",
       "      <td>1218.120482</td>\n",
       "      <td>2.144578</td>\n",
       "      <td>7.577108</td>\n",
       "      <td>43.156627</td>\n",
       "      <td>338.265060</td>\n",
       "      <td>45.349398</td>\n",
       "      <td>220.531325</td>\n",
       "      <td>0.397590</td>\n",
       "    </tr>\n",
       "    <tr>\n",
       "      <th>std</th>\n",
       "      <td>24.103942</td>\n",
       "      <td>1.958524</td>\n",
       "      <td>1.469113</td>\n",
       "      <td>1.549614</td>\n",
       "      <td>193.768746</td>\n",
       "      <td>4.876856</td>\n",
       "      <td>10.521631</td>\n",
       "      <td>30.165188</td>\n",
       "      <td>86.126691</td>\n",
       "      <td>9.058016</td>\n",
       "      <td>6.075278</td>\n",
       "      <td>0.492375</td>\n",
       "    </tr>\n",
       "    <tr>\n",
       "      <th>min</th>\n",
       "      <td>1.000000</td>\n",
       "      <td>25.300000</td>\n",
       "      <td>0.020000</td>\n",
       "      <td>1.500000</td>\n",
       "      <td>120.000000</td>\n",
       "      <td>0.000000</td>\n",
       "      <td>4.100000</td>\n",
       "      <td>2.000000</td>\n",
       "      <td>80.000000</td>\n",
       "      <td>30.100000</td>\n",
       "      <td>210.100000</td>\n",
       "      <td>0.000000</td>\n",
       "    </tr>\n",
       "    <tr>\n",
       "      <th>25%</th>\n",
       "      <td>21.500000</td>\n",
       "      <td>36.000000</td>\n",
       "      <td>1.200000</td>\n",
       "      <td>4.000000</td>\n",
       "      <td>1082.000000</td>\n",
       "      <td>1.000000</td>\n",
       "      <td>5.200000</td>\n",
       "      <td>21.000000</td>\n",
       "      <td>276.500000</td>\n",
       "      <td>38.100000</td>\n",
       "      <td>215.300000</td>\n",
       "      <td>0.000000</td>\n",
       "    </tr>\n",
       "    <tr>\n",
       "      <th>50%</th>\n",
       "      <td>42.000000</td>\n",
       "      <td>37.400000</td>\n",
       "      <td>2.700000</td>\n",
       "      <td>5.000000</td>\n",
       "      <td>1219.000000</td>\n",
       "      <td>2.000000</td>\n",
       "      <td>6.700000</td>\n",
       "      <td>32.000000</td>\n",
       "      <td>330.000000</td>\n",
       "      <td>45.900000</td>\n",
       "      <td>221.100000</td>\n",
       "      <td>0.000000</td>\n",
       "    </tr>\n",
       "    <tr>\n",
       "      <th>75%</th>\n",
       "      <td>62.500000</td>\n",
       "      <td>38.500000</td>\n",
       "      <td>3.750000</td>\n",
       "      <td>6.900000</td>\n",
       "      <td>1367.000000</td>\n",
       "      <td>3.000000</td>\n",
       "      <td>7.750000</td>\n",
       "      <td>71.000000</td>\n",
       "      <td>409.000000</td>\n",
       "      <td>53.450000</td>\n",
       "      <td>226.150000</td>\n",
       "      <td>1.000000</td>\n",
       "    </tr>\n",
       "    <tr>\n",
       "      <th>max</th>\n",
       "      <td>83.000000</td>\n",
       "      <td>39.900000</td>\n",
       "      <td>4.900000</td>\n",
       "      <td>7.800000</td>\n",
       "      <td>1499.000000</td>\n",
       "      <td>45.000000</td>\n",
       "      <td>101.300000</td>\n",
       "      <td>98.000000</td>\n",
       "      <td>480.000000</td>\n",
       "      <td>60.000000</td>\n",
       "      <td>229.700000</td>\n",
       "      <td>1.000000</td>\n",
       "    </tr>\n",
       "  </tbody>\n",
       "</table>\n",
       "</div>"
      ],
      "text/plain": [
       "              id  temperatura   vibracao   corrente   velocidade    posicao  \\\n",
       "count  83.000000    83.000000  83.000000  83.000000    83.000000  83.000000   \n",
       "mean   42.000000    37.174699   2.582169   5.293976  1218.120482   2.144578   \n",
       "std    24.103942     1.958524   1.469113   1.549614   193.768746   4.876856   \n",
       "min     1.000000    25.300000   0.020000   1.500000   120.000000   0.000000   \n",
       "25%    21.500000    36.000000   1.200000   4.000000  1082.000000   1.000000   \n",
       "50%    42.000000    37.400000   2.700000   5.000000  1219.000000   2.000000   \n",
       "75%    62.500000    38.500000   3.750000   6.900000  1367.000000   3.000000   \n",
       "max    83.000000    39.900000   4.900000   7.800000  1499.000000  45.000000   \n",
       "\n",
       "          pressao      nivel  qualidade_ar    umidade      tensao     fumaca  \n",
       "count   83.000000  83.000000     83.000000  83.000000   83.000000  83.000000  \n",
       "mean     7.577108  43.156627    338.265060  45.349398  220.531325   0.397590  \n",
       "std     10.521631  30.165188     86.126691   9.058016    6.075278   0.492375  \n",
       "min      4.100000   2.000000     80.000000  30.100000  210.100000   0.000000  \n",
       "25%      5.200000  21.000000    276.500000  38.100000  215.300000   0.000000  \n",
       "50%      6.700000  32.000000    330.000000  45.900000  221.100000   0.000000  \n",
       "75%      7.750000  71.000000    409.000000  53.450000  226.150000   1.000000  \n",
       "max    101.300000  98.000000    480.000000  60.000000  229.700000   1.000000  "
      ]
     },
     "metadata": {},
     "output_type": "display_data"
    },
    {
     "name": "stdout",
     "output_type": "stream",
     "text": [
      "Arquivo CSV salvo como 'dados_sensores.csv'\n"
     ]
    }
   ],
   "source": [
    "import requests\n",
    "import pandas as pd\n",
    "\n",
    "# URL da sua API\n",
    "url = \"https://api-reply-6cd07329c208.herokuapp.com/api/dados-sensores/\"\n",
    "\n",
    "# Faz a requisição GET\n",
    "response = requests.get(url)\n",
    "\n",
    "# Verifica se a resposta foi bem-sucedida\n",
    "if response.status_code == 200:\n",
    "    data = response.json()  # Converte para JSON\n",
    "    \n",
    "    # Converte JSON para DataFrame\n",
    "    df = pd.DataFrame(data)\n",
    "    \n",
    "    # Exibe as primeiras linhas\n",
    "    print(\"Prévia dos dados:\")\n",
    "    display(df.describe())\n",
    "    \n",
    "    # Salva em CSV\n",
    "    df.to_csv(\"dados_sensores.csv\", index=False)\n",
    "    print(\"Arquivo CSV salvo como 'dados_sensores.csv'\")\n",
    "else:\n",
    "    print(f\"Erro ao acessar API: {response.status_code}\")\n"
   ]
  },
  {
   "cell_type": "markdown",
   "id": "37a6392c-60cd-432b-b522-5df6273a12ca",
   "metadata": {
    "panel-layout": {
     "height": 50.796875,
     "visible": true,
     "width": 100
    }
   },
   "source": [
    "## 2.2. Tamanho do data frame"
   ]
  },
  {
   "cell_type": "markdown",
   "id": "19468b08-f9dc-49e2-8e94-1ba0871bdfb3",
   "metadata": {
    "panel-layout": {
     "height": 120.28125,
     "visible": true,
     "width": 100
    }
   },
   "source": [
    "O primeiro passo em qualquer análise de dados é entender a estrutura do conjunto de dados disponível. Para isso, utilizamos o comando:\n",
    "\n",
    "```python\n",
    "df.shape\n",
    "```"
   ]
  },
  {
   "cell_type": "code",
   "execution_count": 14,
   "id": "a9d1e8e2-f0e9-4ab2-98d6-004f651a6c55",
   "metadata": {
    "panel-layout": {
     "height": 281.140625,
     "visible": true,
     "width": 100
    }
   },
   "outputs": [
    {
     "data": {
      "text/plain": [
       "(83, 13)"
      ]
     },
     "execution_count": 14,
     "metadata": {},
     "output_type": "execute_result"
    }
   ],
   "source": [
    "# Indica qual o \"tamanho\" o DataFrame (linhas, colunas)\n",
    "df.shape"
   ]
  },
  {
   "cell_type": "markdown",
   "id": "562a1be2-1a2a-4501-bcb3-806aae5e0722",
   "metadata": {
    "panel-layout": {
     "height": 50.796875,
     "visible": true,
     "width": 100
    }
   },
   "source": [
    "## 2.3. Dados Faltante ou Nulos"
   ]
  },
  {
   "cell_type": "markdown",
   "id": "57df49a2-1054-4112-a361-71bcfb458087",
   "metadata": {
    "panel-layout": {
     "height": 120.28125,
     "visible": true,
     "width": 100
    }
   },
   "source": [
    "Uma etapa fundamental na preparação dos dados é verificar se existem **valores ausentes (nulos)** nas colunas do DataFrame. Para isso, utilizamos comandos como:\n",
    "\n",
    "```python\n",
    "df.isnull().sum()\n",
    "```"
   ]
  },
  {
   "cell_type": "code",
   "execution_count": 25,
   "id": "80098b03-a789-45f5-9ee8-94007b049252",
   "metadata": {
    "panel-layout": {
     "height": 389,
     "visible": true,
     "width": 100
    }
   },
   "outputs": [
    {
     "data": {
      "text/plain": [
       "id              0\n",
       "timestamp       0\n",
       "temperatura     0\n",
       "vibracao        0\n",
       "corrente        0\n",
       "velocidade      0\n",
       "posicao         0\n",
       "pressao         0\n",
       "nivel           0\n",
       "qualidade_ar    0\n",
       "umidade         0\n",
       "tensao          0\n",
       "fumaca          0\n",
       "dtype: int64"
      ]
     },
     "execution_count": 25,
     "metadata": {},
     "output_type": "execute_result"
    }
   ],
   "source": [
    "# Exiber se tem dados faltantes ou nulos\n",
    "df.isnull().sum()  # Retorna a soma de valores nulos em cada coluna do DataFrame"
   ]
  },
  {
   "cell_type": "markdown",
   "id": "a9e40bd1-fcd9-4d24-b1f1-a83fe323111d",
   "metadata": {
    "panel-layout": {
     "height": 155.703125,
     "visible": true,
     "width": 100
    }
   },
   "source": [
    "Interpretação dos resultados:\n",
    "\n",
    "id, timestamp: Não há dados ausentes nos identificadores nem nos registros temporais.\n",
    "\n",
    "temperatura, vibracao, corrente, velocidade, posicao, pressao, nivel, qualidade_ar, umidade, tensao, fumaca: Todas as medições e variáveis monitoradas estão completas, sem valores faltantes.\n",
    "\n",
    "Conclusão: Nenhuma coluna do conjunto de dados apresenta valores ausentes. Isso indica que não será necessário aplicar técnicas de imputação ou remoção de registros incompletos, facilitando e aumentando a confiabilidade das próximas etapas de análise."
   ]
  },
  {
   "cell_type": "markdown",
   "id": "378db12d-5e6d-4349-b9e0-b29d820eeef1",
   "metadata": {
    "panel-layout": {
     "height": 50.796875,
     "visible": true,
     "width": 100
    }
   },
   "source": [
    "## 2.4. Análise do tipo de dado"
   ]
  },
  {
   "cell_type": "markdown",
   "id": "467ad78e-5b80-47de-9804-f77d6e3278d4",
   "metadata": {
    "panel-layout": {
     "height": 120.28125,
     "visible": true,
     "width": 100
    }
   },
   "source": [
    "A seguir, analisamos os tipos de dados de cada coluna do DataFrame utilizando:\n",
    "\n",
    "```python\n",
    "df.dtypes\n"
   ]
  },
  {
   "cell_type": "code",
   "execution_count": 31,
   "id": "7ace0acc-583f-4708-b5a4-0d360b1cd2c8",
   "metadata": {
    "panel-layout": {
     "height": 389,
     "visible": true,
     "width": 100
    }
   },
   "outputs": [
    {
     "data": {
      "text/plain": [
       "id                int64\n",
       "timestamp        object\n",
       "temperatura     float64\n",
       "vibracao        float64\n",
       "corrente        float64\n",
       "velocidade        int64\n",
       "posicao           int64\n",
       "pressao         float64\n",
       "nivel             int64\n",
       "qualidade_ar      int64\n",
       "umidade         float64\n",
       "tensao          float64\n",
       "fumaca            int64\n",
       "dtype: object"
      ]
     },
     "execution_count": 31,
     "metadata": {},
     "output_type": "execute_result"
    }
   ],
   "source": [
    "# Apresenta qual tipo de dado por variável\n",
    "df.dtypes"
   ]
  },
  {
   "cell_type": "markdown",
   "id": "38162586-27b1-46fa-a66e-78650bf6ceb0",
   "metadata": {
    "panel-layout": {
     "height": 201.984375,
     "visible": true,
     "width": 100
    }
   },
   "source": [
    "Interpretação dos tipos de dados:\n",
    "\n",
    "id, velocidade, posicao, nivel, qualidade_ar, fumaca: São variáveis do tipo inteiro (int64), indicando que armazenam valores numéricos discretos, \n",
    "contagens ou categorias codificadas.\n",
    "\n",
    "timestamp: Está no formato object, ou seja, como texto. armazena datas e horários, e pode ser necessário converter para um formato datetime para análises temporais.\n",
    "\n",
    "temperatura, vibracao, corrente, pressao, umidade, tensao: São do tipo decimal (float64), apropriados para valores contínuos que medem grandezas físicas.\n",
    "\n",
    "Conclusão: Os tipos de dados estão coerentes com o esperado para cada variável. Caso seja necessário trabalhar com séries temporais, recomenda-se converter a coluna timestamp para o tipo datetime. Isso facilitará manipulações e análises baseadas no tempo."
   ]
  },
  {
   "cell_type": "markdown",
   "id": "d60468f3-6a2a-42c5-9a89-b45e2b733c51",
   "metadata": {},
   "source": [
    "## 2.5. Verificando o Alvo "
   ]
  },
  {
   "cell_type": "code",
   "execution_count": 47,
   "id": "4fdb4f71-bc7b-41e1-9c4d-83fa85629688",
   "metadata": {},
   "outputs": [
    {
     "data": {
      "text/plain": [
       "fumaca\n",
       "0         50\n",
       "1         33\n",
       "Name: count, dtype: int64"
      ]
     },
     "execution_count": 47,
     "metadata": {},
     "output_type": "execute_result"
    }
   ],
   "source": [
    "# Retorna uma série contendo a frequência de cada linha distinta no Dataframe\n",
    "df_s = df[['fumaca']].value_counts()\n",
    "df_s"
   ]
  },
  {
   "cell_type": "code",
   "execution_count": null,
   "id": "81f60abd-2399-46c8-bff5-6704b2de3dd2",
   "metadata": {},
   "outputs": [],
   "source": []
  }
 ],
 "metadata": {
  "kernelspec": {
   "display_name": "Python [conda env:base] *",
   "language": "python",
   "name": "conda-base-py"
  },
  "language_info": {
   "codemirror_mode": {
    "name": "ipython",
    "version": 3
   },
   "file_extension": ".py",
   "mimetype": "text/x-python",
   "name": "python",
   "nbconvert_exporter": "python",
   "pygments_lexer": "ipython3",
   "version": "3.12.7"
  },
  "panel-cell-order": [
   "38abe372-acb5-4e8d-a692-f1df3e415970",
   "6b995ec2-8014-45cd-93cb-95e2825437b4",
   "68e3ac55-b5ad-44c5-a0c8-5acd8214b71a",
   "cda3e1a1-1938-47df-b104-a5a4edefcb4b",
   "7a2d4dc7-61b2-431f-bc59-162fb51fa6a7",
   "cba5126b-6468-41d8-8cbe-5ca0466147f5",
   "24227b5c-66bf-4bd3-9300-7f661bfb884f",
   "a4b71cdd-40ef-4da1-9bd7-6d938ee322f5",
   "37a6392c-60cd-432b-b522-5df6273a12ca",
   "19468b08-f9dc-49e2-8e94-1ba0871bdfb3",
   "a9d1e8e2-f0e9-4ab2-98d6-004f651a6c55",
   "562a1be2-1a2a-4501-bcb3-806aae5e0722",
   "57df49a2-1054-4112-a361-71bcfb458087",
   "80098b03-a789-45f5-9ee8-94007b049252",
   "a9e40bd1-fcd9-4d24-b1f1-a83fe323111d",
   "378db12d-5e6d-4349-b9e0-b29d820eeef1",
   "467ad78e-5b80-47de-9804-f77d6e3278d4",
   "7ace0acc-583f-4708-b5a4-0d360b1cd2c8",
   "38162586-27b1-46fa-a66e-78650bf6ceb0"
  ]
 },
 "nbformat": 4,
 "nbformat_minor": 5
}
